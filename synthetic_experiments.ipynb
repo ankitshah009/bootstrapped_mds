{
 "cells": [
  {
   "cell_type": "code",
   "execution_count": null,
   "metadata": {},
   "outputs": [],
   "source": [
    "import numpy as np\n",
    "import os \n",
    "import sys \n",
    "import matplotlib\n",
    "from sklearn.manifold import MDS as classic_MDS\n",
    "import time \n",
    "import scipy\n",
    "import matplotlib.pyplot as mplt \n",
    "import pylab as PLT\n",
    "import plotly\n",
    "import plotly.tools as tls\n",
    "import plotly.plotly as py\n",
    "import plotly.figure_factory as ff\n",
    "import plotly.graph_objs as go\n",
    "from itertools import product\n",
    "from sklearn.neighbors import KNeighborsClassifier\n",
    "from pprint import pprint\n",
    "from sklearn.metrics.pairwise import euclidean_distances\n",
    "plotly.offline.init_notebook_mode()\n",
    "data_dir = './'\n",
    "sys.path.append('./')\n",
    "import bs_dev\n",
    "import pandas as pd\n",
    "from sklearn.neighbors import KNeighborsClassifier\n",
    "from sklearn.metrics import accuracy_score\n",
    "import sklearn.datasets"
   ]
  },
  {
   "cell_type": "code",
   "execution_count": null,
   "metadata": {},
   "outputs": [],
   "source": [
    "# Create the distance graph for all the input \n",
    "def get_nearest_neighbors_edges(x, k=6, distance_metric = 'euclidean'):\n",
    "    n_dim, n_samples = x.shape\n",
    "    edges = [] \n",
    "    pairwise_distances = scipy.spatial.distance.squareform(\n",
    "                         scipy.spatial.distance.pdist(x.T, metric=distance_metric))\n",
    "    for s_id in np.arange(n_samples):\n",
    "        neighbors = np.argsort(pairwise_distances[s_id, :])\n",
    "        closest_neighbors = neighbors[:k+1]\n",
    "        for neigh_id in closest_neighbors:\n",
    "            edges.append([s_id, neigh_id, pairwise_distances[s_id, neigh_id]])\n",
    "    return edges\n",
    "\n",
    "\n",
    "def floyd_warshall(x, k=6, distance_metric='euclidean'):\n",
    "    edges = get_nearest_neighbors_edges(x, k=6)\n",
    "    n_dim, n_samples = x.shape\n",
    "    D = np.full((n_samples, n_samples), np.finfo(np.float16).max, dtype=np.float32)\n",
    "    for (st_ind, end_id, distance) in edges:\n",
    "        D[st_ind][end_id] = distance\n",
    "    for k in range(n_samples):\n",
    "        D = np.minimum(D, D[:,int(k),np.newaxis] + D[np.newaxis,int(k),:]) \n",
    "    for i in range(n_samples):\n",
    "        for j in range(n_samples):\n",
    "            D[i][j] = min(D[i][j], D[j][i])\n",
    "    return D\n",
    "\n",
    "def pairwise_euclidean(X):\n",
    "    return euclidean_distances(X, X)"
   ]
  },
  {
   "cell_type": "code",
   "execution_count": null,
   "metadata": {},
   "outputs": [],
   "source": [
    "mds_res = {}  \n",
    "swiss_xyz, swiss_t = sklearn.datasets.make_swiss_roll(n_samples=2000, \n",
    "                                                      noise=.0, \n",
    "                                                      random_state=None)\n",
    "D_target = floyd_warshall(swiss_xyz.T, k=6, \n",
    "                          distance_metric='euclidean')"
   ]
  },
  {
   "cell_type": "code",
   "execution_count": null,
   "metadata": {},
   "outputs": [],
   "source": [
    "def matplotlib_to_plotly(cmap, pl_entries):\n",
    "    h = 1.0/(pl_entries-1)\n",
    "    pl_colorscale = []\n",
    "    \n",
    "    for k in range(pl_entries):\n",
    "        C = map(np.uint8, np.array(cmap(k*h)[:3])*255)\n",
    "        print(list(C))\n",
    "        pl_colorscale.append([k*h, 'rgb'+str((C[0], C[1], C[2]))])\n",
    "        \n",
    "    return pl_colorscale\n",
    "\n",
    "def plot_initial_swissroll(X, X_t, title='Swissroll 3D'):\n",
    "    p1 = go.Scatter3d(x=X[:, 0], y=X[:, 1], z=X[:, 2],\n",
    "                          mode='markers', \n",
    "                          marker=dict(color=X_t, \n",
    "                                      colorscale='Viridis',\n",
    "                                      size=4,\n",
    "                                      showscale=False,\n",
    "                                      line=dict(color='black', width=1)))\n",
    "    layout = go.Layout(title = title)\n",
    "    fig = dict(data=[p1], layout=layout)\n",
    "    plotly.offline.iplot(fig, filename='manif_'+title, image='svg')\n",
    "    \n",
    "def plot_embedded_swissroll(X, X_t, title='Swissroll 2D'):\n",
    "    p1 = go.Scatter(x=X[:, 0], y=X[:, 1],\n",
    "                          mode='markers', \n",
    "                          marker=dict(color=X_t, \n",
    "                                      colorscale='Viridis',\n",
    "                                      showscale=False,\n",
    "                                      line=dict(color='black', width=1)))\n",
    "    layout = go.Layout(title = title)\n",
    "    fig = dict(data=[p1], layout=layout)\n",
    "    plotly.offline.iplot(fig, filename='manif_'+title, image='svg')"
   ]
  },
  {
   "cell_type": "code",
   "execution_count": null,
   "metadata": {},
   "outputs": [],
   "source": [
    "plot_initial_swissroll(swiss_xyz, swiss_t, title='Swissroll 3D')"
   ]
  },
  {
   "cell_type": "code",
   "execution_count": null,
   "metadata": {},
   "outputs": [],
   "source": [
    "# plot_embedded_swissroll(Z, swiss_t, title='Pattern Search MDS Swissroll 2D')\n",
    "# plot_embedded_swissroll(X_transformed, swiss_t, title='Classic MDS Swissroll 2D')"
   ]
  },
  {
   "cell_type": "code",
   "execution_count": null,
   "metadata": {},
   "outputs": [],
   "source": [
    "before = time.time()\n",
    "pat_search_MDS_creator = bs_dev.MDS(n_components=2,\n",
    "                                    starting_radius=5.,\n",
    "                                    max_iter=100,\n",
    "                                    mode='full_search',\n",
    "                                    prob_thresh=0.2,\n",
    "                                    initial_prob=.6,\n",
    "                                    a_bs=0.05,\n",
    "                                    verbose=0,\n",
    "                                    dissimilarity='precomputed')\n",
    "(x_low_rank,\n",
    " time_logger) = pat_search_MDS_creator.fit_transform(D_target)\n",
    "now = time.time()\n",
    "mds_res['FS CSMDS'] = {} \n",
    "mds_res['FS CSMDS']['time'] = now - before\n",
    "mds_res['FS CSMDS']['embedding'] = x_low_rank\n",
    "print(now - before)\n",
    "plot_embedded_swissroll(x_low_rank, swiss_t, \n",
    "                        title='FS CSMDS ({} seconds)'.format(round(now-before, 2)))"
   ]
  },
  {
   "cell_type": "code",
   "execution_count": null,
   "metadata": {},
   "outputs": [],
   "source": [
    "before = time.time()\n",
    "pat_search_MDS_creator = bs_dev.MDS(n_components=2,\n",
    "                                    starting_radius=5.,\n",
    "                                    max_iter=100,\n",
    "                                    mode='randomized',\n",
    "                                    prob_thresh=0.2,\n",
    "                                    initial_prob=.7,\n",
    "                                    a_bs=0.05,\n",
    "                                    verbose=0,\n",
    "                                    dissimilarity='precomputed')\n",
    "(x_low_rank,\n",
    " time_logger) = pat_search_MDS_creator.fit_transform(D_target)\n",
    "now = time.time()\n",
    "mds_res['RN CSMDS'] = {} \n",
    "mds_res['RN CSMDS']['time'] = now - before\n",
    "mds_res['RN CSMDS']['embedding'] = x_low_rank\n",
    "print(now - before)\n",
    "plot_embedded_swissroll(x_low_rank, swiss_t, \n",
    "                        title='RN CSMDS ({} seconds)'.format(round(now-before, 2)))"
   ]
  },
  {
   "cell_type": "code",
   "execution_count": null,
   "metadata": {},
   "outputs": [],
   "source": [
    "before = time.time()\n",
    "pat_search_MDS_creator = bs_dev.MDS(n_components=2,\n",
    "                                    starting_radius=5.,\n",
    "                                    max_iter=100,\n",
    "                                    mode='bootstrapped',\n",
    "                                    prob_thresh=0.,\n",
    "                                    initial_prob=.5,\n",
    "                                    a_bs=0.05,\n",
    "                                    verbose=0,\n",
    "                                    dissimilarity='precomputed')\n",
    "(x_low_rank,\n",
    " time_logger) = pat_search_MDS_creator.fit_transform(D_target)\n",
    "now = time.time()\n",
    "mds_res['BS CSMDS'] = {} \n",
    "mds_res['BS CSMDS']['time'] = now - before\n",
    "mds_res['BS CSMDS']['embedding'] = x_low_rank\n",
    "print(now - before)\n",
    "plot_embedded_swissroll(x_low_rank, swiss_t, \n",
    "                        title='BS CSMDS ({} seconds)'.format(round(now-before, 2)))"
   ]
  },
  {
   "cell_type": "code",
   "execution_count": null,
   "metadata": {},
   "outputs": [],
   "source": [
    "before = time.time()\n",
    "embedding = classic_MDS(n_components=2, n_init=1, \n",
    "                        n_jobs=1, dissimilarity='precomputed')\n",
    "x_low_rank = embedding.fit_transform(D_target)\n",
    "now = time.time()\n",
    "mds_res['SMACOF MDS'] = {} \n",
    "mds_res['SMACOF MDS']['time'] = now - before\n",
    "mds_res['SMACOF MDS']['embedding'] = x_low_rank\n",
    "print(now - before)\n",
    "plot_embedded_swissroll(x_low_rank, swiss_t, \n",
    "                        title='SMACOF MDS ({} seconds)'.format(round(now-before, 2)))"
   ]
  },
  {
   "cell_type": "code",
   "execution_count": null,
   "metadata": {},
   "outputs": [],
   "source": [
    "# Plot everything \n",
    "for m, v in mds_res.items():\n",
    "    plot_embedded_swissroll(v['embedding'], swiss_t, \n",
    "                            title='{} ({} seconds)'.format(m, round(v['time'], 2)))"
   ]
  },
  {
   "cell_type": "code",
   "execution_count": null,
   "metadata": {},
   "outputs": [],
   "source": []
  }
 ],
 "metadata": {
  "kernelspec": {
   "display_name": "Python 3",
   "language": "python",
   "name": "python3"
  },
  "language_info": {
   "codemirror_mode": {
    "name": "ipython",
    "version": 3
   },
   "file_extension": ".py",
   "mimetype": "text/x-python",
   "name": "python",
   "nbconvert_exporter": "python",
   "pygments_lexer": "ipython3",
   "version": "3.5.2"
  }
 },
 "nbformat": 4,
 "nbformat_minor": 2
}
